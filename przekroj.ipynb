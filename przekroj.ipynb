{
 "cells": [
  {
   "attachments": {},
   "cell_type": "markdown",
   "metadata": {},
   "source": [
    "Biblioteka `laspy` jest używana do pracy z plikami formatu LAS, które są szeroko stosowane w przetwarzaniu chmur punktów i danych LiDAR.\n",
    "`numpy` jest potężną biblioteką do obliczeń numerycznych w Pythonie, oferującą wsparcie dla wielowymiarowych tablic, operacji matematycznych, przetwarzania danych i wiele innych funkcji przydatnych w analizie i manipulacji danymi.\n",
    "\n",
    "`matplotlib` jest popularną biblioteką do tworzenia wykresów i wizualizacji danych. Jest często wykorzystywana do generowania różnych typów wykresów, histogramów, diagramów punktowych itp.\n",
    "\n",
    "`mpl_toolkits` jest narzędziem rozszerzającym bibliotekę `matplotlib`, które zapewnia funkcjonalność do tworzenia wykresów trójwymiarowych. Jest przydatne do wizualizacji danych w przestrzeni trójwymiarowej.\n",
    "\n",
    "`scipy.optimize.minimize` jest częścią biblioteki scipy i oferuje różne metody optymalizacji numerycznej. W tym konkretnym przypadku jest używana do minimalizacji funkcji celu w celu znalezienia optymalnych parametrów."
   ]
  },
  {
   "cell_type": "code",
   "execution_count": null,
   "metadata": {},
   "outputs": [
    {
     "ename": "",
     "evalue": "",
     "output_type": "error",
     "traceback": [
      "\u001b[1;31mRunning cells with 'c:\\Users\\Y9GH7T820\\AppData\\Local\\Microsoft\\WindowsApps\\python3.10.exe' requires the ipykernel package.\n",
      "\u001b[1;31mRun the following command to install 'ipykernel' into the Python environment. \n",
      "\u001b[1;31mCommand: 'c:/Users/Y9GH7T820/AppData/Local/Microsoft/WindowsApps/python3.10.exe -m pip install ipykernel -U --user --force-reinstall'"
     ]
    }
   ],
   "source": [
    "import laspy\n",
    "import numpy as np\n",
    "import matplotlib.pyplot as plt\n",
    "from mpl_toolkits.mplot3d import Axes3D\n",
    "from scipy.optimize import minimize"
   ]
  },
  {
   "attachments": {},
   "cell_type": "markdown",
   "metadata": {},
   "source": [
    "Poniższy fragment kodu definiuje klasę o nazwie \"Plaster\". Klasa ta ma kilka metod, które wykonują różne operacje na punktach plastra.\n",
    "\n",
    "Metoda __init__ jest konstruktorem klasy. Przyjmuje ona dwa argumenty: `points`, który reprezentuje punkty na plastrze, i `plaster_number`, który reprezentuje numer tego plastra.\n",
    "\n",
    "Metoda `get_num_points()` zwraca liczbę punktów na plastrze, używając funkcji wbudowanej w pythonie funkcji `len()`.\n",
    "\n",
    "Metoda `interpolate_circle()` służy do interpolacji okręgu na podstawie punktów na plastrze. Jeśli liczba punktów jest mniejsza niż 3, metoda zwraca `None, None`.\n",
    "Następnie, metoda tworzy zmienne x, y, z na podstawie wartości w punktach. Wykorzystuje one dane z punktów, gdzie x to współrzędna x, y to współrzędna y, a z to współrzędna z. Funkcja `objective_function()` jest zagnieżdżoną funkcją w metodzie `interpolate_circle`, która przyjmuje argument `center_radius`, który reprezentuje środek okręgu i promień. Oblicza ona odległość każdego punktu od tego okręgu i zwraca sumę kwadratów tych odległości.\n",
    "Następnie tworzona jest lista `center_radius_guess`, która zawiera przybliżone wartości dla środka okręgu i promienia. Środek okręgu to średnia wartość współrzędnych x i y, a promień to odchylenie standardowe wartości x.\n",
    "Następnie wywoływana jest funkcja `minimize`, która minimalizuje wartość funkcji `objective_function` dla danego przybliżenia `center_radius_guess`. Wynik tej minimalizacji jest przechowywany w zmiennej `result`.\n",
    "Następnie, z wyniku `result` pobierane są wartości dla środka okręgu (center) oraz promienia (radius). Dodatkowo obliczane jest odchylenie (deviation) na podstawie wartości minimalnej funkcji i liczby punktów.\n",
    "\n",
    "Na koniec, metoda `interpolate_circle` zwraca obliczone odchylenie i środek okręgu w postaci listy `deviation, center`."
   ]
  },
  {
   "cell_type": "code",
   "execution_count": null,
   "metadata": {},
   "outputs": [
    {
     "ename": "",
     "evalue": "",
     "output_type": "error",
     "traceback": [
      "\u001b[1;31mRunning cells with 'c:\\Users\\Y9GH7T820\\AppData\\Local\\Microsoft\\WindowsApps\\python3.10.exe' requires the ipykernel package.\n",
      "\u001b[1;31mRun the following command to install 'ipykernel' into the Python environment. \n",
      "\u001b[1;31mCommand: 'c:/Users/Y9GH7T820/AppData/Local/Microsoft/WindowsApps/python3.10.exe -m pip install ipykernel -U --user --force-reinstall'"
     ]
    }
   ],
   "source": [
    "class Plaster:\n",
    "    def __init__(self, points, plaster_number):\n",
    "        self.points = points\n",
    "        self.plaster_number = plaster_number\n",
    "\n",
    "    def get_num_points(self):\n",
    "        return len(self.points)\n",
    "\n",
    "    def interpolate_circle(self):\n",
    "        if len(self.points) < 3:\n",
    "            return None, None\n",
    "\n",
    "        x = self.points[\"x\"]\n",
    "        y = self.points[\"y\"]\n",
    "        z = self.points[\"z\"]\n",
    "\n",
    "        def objective_function(center_radius):\n",
    "            cx, cy, r = center_radius\n",
    "            distance = np.sqrt((x - cx) ** 2 + (y - cy) ** 2)\n",
    "            return np.sum((distance - r) ** 2)\n",
    "\n",
    "        center_radius_guess = [np.mean(x), np.mean(y), np.std(x)]\n",
    "\n",
    "\n",
    "        result = minimize(objective_function, center_radius_guess, method='Nelder-Mead')\n",
    "        center = result.x.tolist()\n",
    "        center.append(np.mean(z))\n",
    "        radius = result.x[2]\n",
    "        deviation = np.sqrt(result.fun / len(self.points))\n",
    "\n",
    "        return list(deviation, center)\n"
   ]
  },
  {
   "attachments": {},
   "cell_type": "markdown",
   "metadata": {},
   "source": [
    "Poniższy fragmentu kodu definiuje klasę o nazwie `PointCloud`, która reprezentuje chmurę punktów. Klasa ta ma trzy metody.\n",
    "\n",
    "Metoda `__init__` jest konstruktorem klasy. Przyjmuje ona argument `filename`, który reprezentuje nazwę pliku chmury punktów. Metoda inicjalizuje atrybut `filename` dla danego obiektu klasy i ustawia atrybut `points` na wartość None.\n",
    "\n",
    "Metoda `load_point_cloud()` wczytuje chmurę punktów z pliku o nazwie `self.filename`. Wykorzystuje bibliotekę `laspy` do odczytu danych z pliku LAS. Jeśli wczytanie się nie powiedzie, zostanie wyświetlony komunikat o błędzie.\n",
    "\n",
    "Metoda `divide_into_plasters()` dzieli chmurę punktów na plastery. Przyjmuje argument `num_plasters`, który reprezentuje liczbę plasterów, na jakie ma zostać podzielona chmura. Jeśli chmura punktów nie została wczytana atrybut `points` jest zostawiony jako `None`, zostanie wyświetlony komunikat o tym fakcie i zwrócona pusta lista.\n",
    "\n",
    "Następnie, metoda oblicza minimalną (`min_z`) i maksymalną (`max_z`) wartość współrzędnej `z` w punktach chmury. Oblicza również zakres wartości `z` jako różnicę między maksymalną i minimalną wartością. Następnie oblicza rozmiar kroku (`step_size`) jako podział zakresu wartości `z` przez liczbę plasterów.\n",
    "\n",
    "Następnie, tworzona jest pusta lista `plasters`, która będzie przechowywać obiekty klasy `Plaster`. Następnie, w pętli `for` tworzone są kolejne plastry. Dla każdego plastera obliczane są minimalne (`min_z_plaster`) i maksymalne (`max_z_plaster`) wartości współrzędnej `z` na podstawie kroku i indeksu plastra. Następnie, z punktów chmury wybierane są tylko te, które mają współrzędną `z` w zakresie danego plastera, i tworzony jest obiekt klasy `Plaster` na podstawie tych punktów i numeru plastra. Obiekt klasy `Plaster` jest dodawany do listy `plasters`.\n",
    "\n",
    "Na koniec, metoda `divide_into_plasters` zwraca listę wszystkich plastrów, które zostały podzielone z chmury punktów."
   ]
  },
  {
   "cell_type": "code",
   "execution_count": null,
   "metadata": {},
   "outputs": [
    {
     "ename": "",
     "evalue": "",
     "output_type": "error",
     "traceback": [
      "\u001b[1;31mRunning cells with 'c:\\Users\\Y9GH7T820\\AppData\\Local\\Microsoft\\WindowsApps\\python3.10.exe' requires the ipykernel package.\n",
      "\u001b[1;31mRun the following command to install 'ipykernel' into the Python environment. \n",
      "\u001b[1;31mCommand: 'c:/Users/Y9GH7T820/AppData/Local/Microsoft/WindowsApps/python3.10.exe -m pip install ipykernel -U --user --force-reinstall'"
     ]
    }
   ],
   "source": [
    "class PointCloud:\n",
    "    def __init__(self, filename):\n",
    "        self.filename = filename\n",
    "        self.points = None\n",
    "\n",
    "    def load_point_cloud(self):\n",
    "        try:\n",
    "            point_cloud = laspy.read(self.filename)\n",
    "            self.points = point_cloud.points\n",
    "        except Exception as e:\n",
    "            print(f\"Error loading point cloud: {e}\")\n",
    "\n",
    "    def divide_into_plasters(self, num_plasters):\n",
    "        if self.points is None:\n",
    "            print(\"Point cloud not loaded.\")\n",
    "            return []\n",
    "\n",
    "        min_z = np.min(self.points[\"z\"])\n",
    "        max_z = np.max(self.points[\"z\"])\n",
    "        z_range = max_z - min_z\n",
    "        step_size = z_range / num_plasters\n",
    "\n",
    "        plasters = []\n",
    "        for i in range(num_plasters):\n",
    "            min_z_plaster = min_z + i * step_size\n",
    "            max_z_plaster = min_z + (i + 1) * step_size\n",
    "            plaster_points = self.points[(self.points[\"z\"] >= min_z_plaster) and (self.points[\"z\"] < max_z_plaster)]\n",
    "            plaster = Plaster(plaster_points, i + 1)\n",
    "            plasters.append(plaster)\n",
    "\n",
    "        return plasters"
   ]
  },
  {
   "attachments": {},
   "cell_type": "markdown",
   "metadata": {},
   "source": [
    "W poniższym kodzie, najpierw tworzony jest obiekt `point_cloud` klasy `PointCloud` i przekazywany jest do niego plik o nazwie \"Komin.las\". Następnie wywoływana jest metoda `load_point_cloud()` na tym obiekcie, która wczytuje chmurę punktów z pliku.\n",
    "\n",
    "Następnie zdefiniowana jest zmienna `num_plasters`, która określa liczbę plastrów, na które ma być podzielona chmura punktów.\n",
    "\n",
    "Kolejny krok to podzielenie chmury punktów na plastry za pomocą metody `divide_into_plasters(num_plasters)`. Wynik tego podziału zostaje przypisany do zmiennej `plasters`.\n",
    "\n",
    "Następnie tworzona jest pusta lista `centers`, która będzie przechowywać środki okręgów dla tych plastrów, które miały obliczone odchylenie. Następnie iterujemy przez wszystkie plastry w liście `plasters` i dla każdego plastra wywołujemy metodę `interpolate_circle()`, która oblicza odchylenie i środek okręgu. Jeśli odchylenie jest różne od `None` (czyli zostało obliczone), dodajemy środek okręgu do listy `centers`.\n",
    "\n",
    "Na koniec, lista `centers` jest przekształcana na tablicę numpy za pomocą funkcji `np.array()`."
   ]
  },
  {
   "cell_type": "code",
   "execution_count": null,
   "metadata": {},
   "outputs": [
    {
     "ename": "",
     "evalue": "",
     "output_type": "error",
     "traceback": [
      "\u001b[1;31mRunning cells with 'c:\\Users\\Y9GH7T820\\AppData\\Local\\Microsoft\\WindowsApps\\python3.10.exe' requires the ipykernel package.\n",
      "\u001b[1;31mRun the following command to install 'ipykernel' into the Python environment. \n",
      "\u001b[1;31mCommand: 'c:/Users/Y9GH7T820/AppData/Local/Microsoft/WindowsApps/python3.10.exe -m pip install ipykernel -U --user --force-reinstall'"
     ]
    }
   ],
   "source": [
    "point_cloud = PointCloud(\"Komin.las\")\n",
    "point_cloud.load_point_cloud()\n",
    "\n",
    "num_plasters = 8\n",
    "\n",
    "plasters = point_cloud.divide_into_plasters(num_plasters)\n",
    "centers = []\n",
    "for plaster in plasters:\n",
    "    deviation, center = plaster.interpolate_circle()\n",
    "    if deviation is not None:\n",
    "        centers.append(center)\n",
    "\n",
    "centers = np.array(centers)"
   ]
  },
  {
   "attachments": {},
   "cell_type": "markdown",
   "metadata": {},
   "source": [
    "Poniższy kod tworzy wykres trójwymiarowy dla środków okręgów."
   ]
  },
  {
   "cell_type": "code",
   "execution_count": null,
   "metadata": {},
   "outputs": [
    {
     "ename": "",
     "evalue": "",
     "output_type": "error",
     "traceback": [
      "\u001b[1;31mRunning cells with 'c:\\Users\\Y9GH7T820\\AppData\\Local\\Microsoft\\WindowsApps\\python3.10.exe' requires the ipykernel package.\n",
      "\u001b[1;31mRun the following command to install 'ipykernel' into the Python environment. \n",
      "\u001b[1;31mCommand: 'c:/Users/Y9GH7T820/AppData/Local/Microsoft/WindowsApps/python3.10.exe -m pip install ipykernel -U --user --force-reinstall'"
     ]
    }
   ],
   "source": [
    "fig = plt.figure()\n",
    "ax = fig.add_subplot(111, projection='3d')\n",
    "\n",
    "for center in centers:\n",
    "    cx, cy = center[0], center[1]\n",
    "    radius = center[2]\n",
    "    cz = center[3] \n",
    "    u = np.linspace(0, 2 * np.pi, 100)\n",
    "    x = cx + np.cos(u) * radius\n",
    "    y = cy + np.sin(u) * radius\n",
    "    z = cz * np.ones_like(x)\n",
    "    ax.plot(x, y, z, 'b-')\n",
    "\n",
    "\n",
    "ax.scatter(centers[:, 0], centers[:, 1], centers[:, 3], color='purple', marker='o')\n",
    "ax.plot(centers[:, 0], centers[:, 1], centers[:, 3], 'r--')\n",
    "ax.set_xlabel('X')\n",
    "ax.set_ylabel('Y')\n",
    "ax.set_zlabel('Z')\n",
    "\n",
    "plt.show()"
   ]
  },
  {
   "attachments": {},
   "cell_type": "markdown",
   "metadata": {},
   "source": [
    "Poniższy kod tworzy wykres dwuwymiarowy, na którym są rysowane okręgi na podstawie środków przechowywanych w zmiennej centers. Widoczne jest również przemieszczenie środków okręgów (czerwona linia)."
   ]
  },
  {
   "cell_type": "code",
   "execution_count": null,
   "metadata": {},
   "outputs": [
    {
     "ename": "",
     "evalue": "",
     "output_type": "error",
     "traceback": [
      "\u001b[1;31mRunning cells with 'c:\\Users\\Y9GH7T820\\AppData\\Local\\Microsoft\\WindowsApps\\python3.10.exe' requires the ipykernel package.\n",
      "\u001b[1;31mRun the following command to install 'ipykernel' into the Python environment. \n",
      "\u001b[1;31mCommand: 'c:/Users/Y9GH7T820/AppData/Local/Microsoft/WindowsApps/python3.10.exe -m pip install ipykernel -U --user --force-reinstall'"
     ]
    }
   ],
   "source": [
    "plt.figure()\n",
    "for center in centers:\n",
    "    cx, cy = center[0], center[1]\n",
    "    radius = center[2]\n",
    "    plt.gca().add_patch(plt.Circle((cx, cy), radius, color='b', fill=False))\n",
    "plt.plot(centers[:, 0], centers[:, 1], 'r-')\n",
    "plt.xlabel('X')\n",
    "plt.ylabel('Y')\n",
    "plt.gca().set_aspect('equal')\n",
    "\n",
    "\n",
    "plt.show()"
   ]
  },
  {
   "cell_type": "code",
   "execution_count": null,
   "metadata": {},
   "outputs": [
    {
     "ename": "",
     "evalue": "",
     "output_type": "error",
     "traceback": [
      "\u001b[1;31mRunning cells with 'c:\\Users\\Y9GH7T820\\AppData\\Local\\Microsoft\\WindowsApps\\python3.10.exe' requires the ipykernel package.\n",
      "\u001b[1;31mRun the following command to install 'ipykernel' into the Python environment. \n",
      "\u001b[1;31mCommand: 'c:/Users/Y9GH7T820/AppData/Local/Microsoft/WindowsApps/python3.10.exe -m pip install ipykernel -U --user --force-reinstall'"
     ]
    }
   ],
   "source": [
    "# Extract x and y values from centers\n",
    "x_values = centers[:, 0]\n",
    "y_values = centers[:, 1]\n",
    "\n",
    "# Create a new figure and axes\n",
    "fig, ax = plt.subplots()\n",
    "\n",
    "# Plot the line graph\n",
    "ax.plot(x_values, y_values, 'b-')\n",
    "\n",
    "# Set labels for x and y axes\n",
    "ax.set_xlabel('X')\n",
    "ax.set_ylabel('Y')\n",
    "\n",
    "# Display the plot\n",
    "plt.show()"
   ]
  },
  {
   "attachments": {},
   "cell_type": "markdown",
   "metadata": {},
   "source": []
  },
  {
   "cell_type": "code",
   "execution_count": null,
   "metadata": {},
   "outputs": [
    {
     "ename": "",
     "evalue": "",
     "output_type": "error",
     "traceback": [
      "\u001b[1;31mRunning cells with 'c:\\Users\\Y9GH7T820\\AppData\\Local\\Microsoft\\WindowsApps\\python3.10.exe' requires the ipykernel package.\n",
      "\u001b[1;31mRun the following command to install 'ipykernel' into the Python environment. \n",
      "\u001b[1;31mCommand: 'c:/Users/Y9GH7T820/AppData/Local/Microsoft/WindowsApps/python3.10.exe -m pip install ipykernel -U --user --force-reinstall'"
     ]
    }
   ],
   "source": [
    "# Your code snippet\n",
    "\n",
    "# Extract y and z values from centers\n",
    "y_values = centers[:, 1]\n",
    "z_values = centers[:, 3]\n",
    "\n",
    "# Create a new figure and axes\n",
    "fig, ax = plt.subplots()\n",
    "\n",
    "# Plot the line graph\n",
    "ax.plot(y_values, z_values, 'r-')\n",
    "\n",
    "# Set labels for y and z axes\n",
    "ax.set_ylabel('Y')\n",
    "ax.set_xlabel('Z')\n",
    "\n",
    "# Display the plot\n",
    "plt.show()"
   ]
  }
 ],
 "metadata": {
  "kernelspec": {
   "display_name": "IFC",
   "language": "python",
   "name": "python3"
  },
  "language_info": {
   "codemirror_mode": {
    "name": "ipython",
    "version": 3
   },
   "file_extension": ".py",
   "mimetype": "text/x-python",
   "name": "python",
   "nbconvert_exporter": "python",
   "pygments_lexer": "ipython3",
   "version": "3.10.11"
  },
  "orig_nbformat": 4
 },
 "nbformat": 4,
 "nbformat_minor": 2
}
